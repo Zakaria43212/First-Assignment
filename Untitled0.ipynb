{
  "nbformat": 4,
  "nbformat_minor": 0,
  "metadata": {
    "colab": {
      "provenance": []
    },
    "kernelspec": {
      "name": "python3",
      "display_name": "Python 3"
    },
    "language_info": {
      "name": "python"
    }
  },
  "cells": [
    {
      "cell_type": "markdown",
      "source": [
        "1. What is Ai?\n",
        "- Artifical inteligence"
      ],
      "metadata": {
        "id": "IT4kQaxv1ofH"
      }
    },
    {
      "cell_type": "code",
      "source": [
        "the generate {name}"
      ],
      "metadata": {
        "id": "7cgHv6wo2Dzs"
      },
      "execution_count": null,
      "outputs": []
    }
  ]
}